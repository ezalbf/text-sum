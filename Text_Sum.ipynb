{
 "cells": [
  {
   "cell_type": "code",
   "execution_count": 1,
   "id": "2ce8f40e",
   "metadata": {},
   "outputs": [
    {
     "name": "stderr",
     "output_type": "stream",
     "text": [
      "C:\\Users\\Eunice\\anaconda3\\lib\\site-packages\\scipy\\__init__.py:146: UserWarning: A NumPy version >=1.16.5 and <1.23.0 is required for this version of SciPy (detected version 1.26.4\n",
      "  warnings.warn(f\"A NumPy version >={np_minversion} and <{np_maxversion}\"\n"
     ]
    }
   ],
   "source": [
    "from transformers import pipeline"
   ]
  },
  {
   "cell_type": "code",
   "execution_count": 2,
   "id": "48a6de24",
   "metadata": {
    "scrolled": false
   },
   "outputs": [
    {
     "name": "stderr",
     "output_type": "stream",
     "text": [
      "No model was supplied, defaulted to google-t5/t5-small and revision d769bba (https://huggingface.co/google-t5/t5-small).\n",
      "Using a pipeline without specifying a model name and revision in production is not recommended.\n"
     ]
    },
    {
     "name": "stdout",
     "output_type": "stream",
     "text": [
      "WARNING:tensorflow:From C:\\Users\\Eunice\\anaconda3\\lib\\site-packages\\tf_keras\\src\\losses.py:2976: The name tf.losses.sparse_softmax_cross_entropy is deprecated. Please use tf.compat.v1.losses.sparse_softmax_cross_entropy instead.\n",
      "\n"
     ]
    },
    {
     "data": {
      "application/vnd.jupyter.widget-view+json": {
       "model_id": "88deaf26baa34401a6b9ac48aa1106ad",
       "version_major": 2,
       "version_minor": 0
      },
      "text/plain": [
       "model.safetensors:   0%|          | 0.00/242M [00:00<?, ?B/s]"
      ]
     },
     "metadata": {},
     "output_type": "display_data"
    },
    {
     "name": "stdout",
     "output_type": "stream",
     "text": [
      "WARNING:tensorflow:From C:\\Users\\Eunice\\anaconda3\\lib\\site-packages\\tf_keras\\src\\backend.py:873: The name tf.get_default_graph is deprecated. Please use tf.compat.v1.get_default_graph instead.\n",
      "\n"
     ]
    },
    {
     "name": "stderr",
     "output_type": "stream",
     "text": [
      "All PyTorch model weights were used when initializing TFT5ForConditionalGeneration.\n",
      "\n",
      "All the weights of TFT5ForConditionalGeneration were initialized from the PyTorch model.\n",
      "If your task is similar to the task the model of the checkpoint was trained on, you can already use TFT5ForConditionalGeneration for predictions without further training.\n"
     ]
    },
    {
     "data": {
      "application/vnd.jupyter.widget-view+json": {
       "model_id": "4534f3613a3e41a98921539c5cc28868",
       "version_major": 2,
       "version_minor": 0
      },
      "text/plain": [
       "tokenizer_config.json:   0%|          | 0.00/2.32k [00:00<?, ?B/s]"
      ]
     },
     "metadata": {},
     "output_type": "display_data"
    },
    {
     "data": {
      "application/vnd.jupyter.widget-view+json": {
       "model_id": "e54f3776ce1240d3a1e80d25169fe8f9",
       "version_major": 2,
       "version_minor": 0
      },
      "text/plain": [
       "spiece.model:   0%|          | 0.00/792k [00:00<?, ?B/s]"
      ]
     },
     "metadata": {},
     "output_type": "display_data"
    },
    {
     "data": {
      "application/vnd.jupyter.widget-view+json": {
       "model_id": "f3795102d5a142198e0921a55c0d00c6",
       "version_major": 2,
       "version_minor": 0
      },
      "text/plain": [
       "tokenizer.json:   0%|          | 0.00/1.39M [00:00<?, ?B/s]"
      ]
     },
     "metadata": {},
     "output_type": "display_data"
    }
   ],
   "source": [
    "# Create a summarization pipeline\n",
    "summarizer = pipeline(\"summarization\")"
   ]
  },
  {
   "cell_type": "code",
   "execution_count": 8,
   "id": "0c522808",
   "metadata": {},
   "outputs": [],
   "source": [
    "# Example text to summarize\n",
    "text = \"\"\"Once upon a time, in a small village nestled between rolling hills and dense forests, there lived a young girl named Lily. Lily was known for her boundless curiosity and kind heart. She spent her days exploring the woods, befriending animals, and helping the villagers with her cheerful disposition.\n",
    "\n",
    "One sunny morning, while wandering deeper into the forest than ever before, Lily stumbled upon an ancient oak tree with a hidden door at its base. Intrigued, she pushed the door open and discovered a winding staircase leading underground. With a mix of excitement and apprehension, she descended into the unknown.\n",
    "\n",
    "At the bottom of the stairs, Lily found herself in a magical underground world filled with glowing mushrooms, sparkling streams, and strange creatures. She met a tiny, winged creature named Flit, who explained that this realm was in danger. The magical heart of the underground world, a radiant crystal, was losing its light, and only a pure-hearted human could restore it.\n",
    "\n",
    "Determined to help, Lily embarked on a quest with Flit as her guide. They journeyed through enchanted forests, crossed crystal-clear lakes, and climbed shimmering mountains. Along the way, they encountered various challenges and made new friends, each offering their assistance in their own unique way.\n",
    "\n",
    "Finally, after many adventures, they reached the Crystal Cavern. Inside, the radiant crystal was dim and flickering. Lily approached it with reverence, placing her hands on its surface. She closed her eyes, focusing all her love and hope into the crystal. Slowly, the crystal began to glow brighter, its light filling the cavern and spreading throughout the underground world.\n",
    "\n",
    "With the crystal restored, the magical realm flourished once more. Flit and the other creatures rejoiced, thanking Lily for her bravery and kindness. Lily bid farewell to her newfound friends and returned to her village, carrying with her the memories of her incredible journey.\n",
    "\n",
    "From that day on, the villagers noticed a special sparkle in Lily's eyes, and she continued to explore the world with even more wonder and joy, knowing that magic and adventure could be found in the most unexpected places.\"\"\""
   ]
  },
  {
   "cell_type": "code",
   "execution_count": 9,
   "id": "da04f5da",
   "metadata": {},
   "outputs": [],
   "source": [
    "# Generate the summary\n",
    "summary = summarizer(text, max_length=50, min_length=30, do_sample=False)"
   ]
  },
  {
   "cell_type": "code",
   "execution_count": 10,
   "id": "4d9ac417",
   "metadata": {},
   "outputs": [
    {
     "data": {
      "text/plain": [
       "[{'summary_text': 'a young girl named Lily was known for her boundless curiosity and kind heart . she spent her days exploring the woods, befriending animals, and helping the villagers .'}]"
      ]
     },
     "execution_count": 10,
     "metadata": {},
     "output_type": "execute_result"
    }
   ],
   "source": [
    "summary"
   ]
  },
  {
   "cell_type": "code",
   "execution_count": 12,
   "id": "d78d5bc4",
   "metadata": {},
   "outputs": [
    {
     "data": {
      "text/plain": [
       "'a young girl named Lily was known for her boundless curiosity and kind heart . she spent her days exploring the woods, befriending animals, and helping the villagers .'"
      ]
     },
     "execution_count": 12,
     "metadata": {},
     "output_type": "execute_result"
    }
   ],
   "source": [
    "summary[0]['summary_text']"
   ]
  },
  {
   "cell_type": "code",
   "execution_count": null,
   "id": "f1429aaa",
   "metadata": {},
   "outputs": [],
   "source": []
  }
 ],
 "metadata": {
  "kernelspec": {
   "display_name": "Python 3 (ipykernel)",
   "language": "python",
   "name": "python3"
  },
  "language_info": {
   "codemirror_mode": {
    "name": "ipython",
    "version": 3
   },
   "file_extension": ".py",
   "mimetype": "text/x-python",
   "name": "python",
   "nbconvert_exporter": "python",
   "pygments_lexer": "ipython3",
   "version": "3.9.7"
  }
 },
 "nbformat": 4,
 "nbformat_minor": 5
}
